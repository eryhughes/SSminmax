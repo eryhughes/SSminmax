{
 "cells": [
  {
   "cell_type": "code",
   "execution_count": 1,
   "metadata": {},
   "outputs": [],
   "source": [
    "### import python packages ###\n",
    "import pandas as pd\n",
    "import gmpy2 as gp\n",
    "\n",
    "### import SCHOFe functions ###\n",
    "import melt_gas as mg\n",
    "import equilibrium_equations as eq\n",
    "import calculations as c\n",
    "\n",
    "### load species file and set calculation precision ###\n",
    "species = pd.read_csv(\"species.csv\", index_col = [0]) # attributes of the different species used in the system\n",
    "gp.get_context().precision=100"
   ]
  },
  {
   "cell_type": "code",
   "execution_count": 4,
   "metadata": {},
   "outputs": [],
   "source": [
    "### load setup and models file ###\n",
    "setup = pd.read_csv(\"inputs.csv\") # csv for initial conditions of the system\n",
    "models = pd.read_csv(\"models.csv\", index_col = [0]) # model options"
   ]
  },
  {
   "cell_type": "code",
   "execution_count": 5,
   "metadata": {},
   "outputs": [
    {
     "name": "stdout",
     "output_type": "stream",
     "text": [
      "0 Hawaii high Si 2.3428680719494768e-08\n",
      "1 Hawaii high Si 3.7132956564673984e-13\n",
      "2 Hawaii high Si 5.88511851821134e-13\n",
      "3 Hawaii high Si 9.327225787020734e-13\n",
      "4 Hawaii high Si 1.478259816507764e-12\n",
      "5 Hawaii high Si 2.342878070940056e-12\n",
      "6 Hawaii high Si 3.713205656467396e-12\n",
      "7 Hawaii high Si 5.885028518211345e-12\n",
      "8 Hawaii high Si 9.327135787020723e-12\n",
      "9 Hawaii high Si 1.4782508165077627e-11\n"
     ]
    }
   ],
   "source": [
    "################################################\n",
    "### saturation pressure at given fS2 and fO2 ###\n",
    "################################################\n",
    "\n",
    "# inputs\n",
    "first_row = 0 # starts from 0 in a spreadsheet\n",
    "last_row = 10\n",
    "p_tol = 1.e-7 # tolerence for convergence in bars\n",
    "nr_step = 1. # step size for newton raphson\n",
    "nr_tol = 1.e-9 # tolerance for newton raphson\n",
    "\n",
    "# run model\n",
    "c.P_sat_output_fS2(first_row,last_row,p_tol,nr_step,nr_tol,setup,species,models)"
   ]
  },
  {
   "cell_type": "code",
   "execution_count": 6,
   "metadata": {},
   "outputs": [
    {
     "name": "stdout",
     "output_type": "stream",
     "text": [
      "0 Hawaii high Si 10.235259133420959\n",
      "1 Hawaii high Si 2.488214403656408e-05\n",
      "2 Hawaii high Si 3.974613555162389e-05\n",
      "3 Hawaii high Si 6.358276543269721e-05\n",
      "4 Hawaii high Si 0.00010189572573046223\n",
      "5 Hawaii high Si 0.0001636466775058129\n",
      "6 Hawaii high Si 0.00026350466455696617\n",
      "7 Hawaii high Si 0.00042562960691878906\n",
      "8 Hawaii high Si 0.0006900998466151259\n",
      "9 Hawaii high Si 0.0011239520942488788\n",
      "10 Hawaii high Si 0.0018403700003407828\n",
      "11 Hawaii high Si 0.0030324569366243495\n",
      "12 Hawaii high Si 0.005033454669033223\n",
      "13 Hawaii high Si 0.008425533808415313\n",
      "14 Hawaii high Si 0.014238897606905174\n",
      "15 Hawaii high Si 0.02432076472523339\n",
      "16 Hawaii high Si 0.04202732770293192\n",
      "17 Hawaii high Si 0.07353576605259587\n",
      "18 Hawaii high Si 0.130357153390731\n",
      "19 Hawaii high Si 0.23419361435268163\n",
      "20 Hawaii high Si 0.42640430516105976\n",
      "21 Hawaii high Si 0.7865917427965439\n",
      "22 Hawaii high Si 1.4690908030171994\n",
      "23 Hawaii high Si 2.776333783810259\n",
      "24 Hawaii high Si 5.304145788781821\n",
      "25 Hawaii high Si 10.235259133421978\n",
      "26 Hawaii high Si 19.933888545652866\n",
      "27 Hawaii high Si 39.164900623256585\n",
      "28 Hawaii high Si 77.64076360905308\n",
      "29 Hawaii high Si 135.7985235775696\n",
      "30 Hawaii high Si 208.71094035606552\n",
      "31 Hawaii high Si 265.2298661095288\n",
      "32 Hawaii high Si 278.0282683444361\n",
      "33 Hawaii high Si 269.5652504472814\n",
      "34 Hawaii high Si 254.9344843996609\n",
      "35 Hawaii high Si 217.30549286318674\n",
      "36 Hawaii high Si 178.8022408353503\n",
      "37 Hawaii high Si 144.7255692730874\n",
      "38 Hawaii high Si 116.24086457938087\n",
      "39 Hawaii high Si 93.00269128215132\n",
      "40 Hawaii high Si 74.25275642844161\n",
      "41 Hawaii high Si 59.2061609569584\n",
      "42 Hawaii high Si 47.167304529630485\n",
      "43 Hawaii high Si 37.55253268724765\n",
      "44 Hawaii high Si 29.883259035232395\n",
      "45 Hawaii high Si 23.77134864368285\n",
      "46 Hawaii high Si 18.903905623443375\n",
      "47 Hawaii high Si 15.029621015873365\n",
      "48 Hawaii high Si 11.947161842612811\n",
      "49 Hawaii high Si 9.495533263902278\n",
      "50 Hawaii high Si 7.546181763399014\n",
      "51 Hawaii high Si 5.996576921577652\n"
     ]
    }
   ],
   "source": [
    "###########################\n",
    "### saturation pressure ###\n",
    "###########################\n",
    "\n",
    "# check calc_sat mode\n",
    "\n",
    "# inputs\n",
    "first_row = 0 # starts from 0 in a spreadsheet\n",
    "last_row = 52\n",
    "p_tol = 1.e-10 # tolerence for convergence in bars\n",
    "nr_step = 1. # step size for newton raphson [SHOFe insolubles might need to change this]\n",
    "nr_tol = 1.e-9 # tolerance for newton raphson\n",
    "\n",
    "# run model\n",
    "c.P_sat_output(first_row,last_row,p_tol,nr_step,nr_tol,setup,species,models)"
   ]
  },
  {
   "cell_type": "code",
   "execution_count": 7,
   "metadata": {},
   "outputs": [
    {
     "name": "stdout",
     "output_type": "stream",
     "text": [
      "Hawaii high Si nan nan\n",
      "Hawaii high Si nan nan\n",
      "Hawaii high Si nan nan\n",
      "Hawaii high Si nan nan\n",
      "Hawaii high Si nan nan\n",
      "Hawaii high Si nan nan\n",
      "Hawaii high Si nan nan\n",
      "Hawaii high Si nan nan\n",
      "Hawaii high Si nan nan\n",
      "Hawaii high Si nan nan\n",
      "Hawaii high Si nan nan\n",
      "Hawaii high Si nan nan\n",
      "Hawaii high Si nan nan\n",
      "Hawaii high Si nan nan\n",
      "Hawaii high Si nan nan\n",
      "Hawaii high Si nan nan\n",
      "Hawaii high Si nan nan\n",
      "Hawaii high Si 2.1043960692919552e-10 3000.0\n",
      "Hawaii high Si 3.335243004462736e-10 3000.0\n",
      "Hawaii high Si 5.286003932976554e-10 3000.0\n",
      "Hawaii high Si 8.3777516486972e-10 3000.0\n",
      "Hawaii high Si 1.3277841556150042e-09 3000.0\n",
      "Hawaii high Si 2.104396069291952e-09 3000.0\n",
      "Hawaii high Si 3.3352430044627365e-09 3000.0\n",
      "Hawaii high Si 5.286003932976558e-09 3000.0\n",
      "Hawaii high Si 8.377751648697164e-09 3000.0\n",
      "Hawaii high Si 1.3277841556150053e-08 3000.0\n",
      "Hawaii high Si 2.1043960692919505e-08 3000.0\n",
      "Hawaii high Si 3.335243004462738e-08 3000.0\n",
      "Hawaii high Si 5.286003932976539e-08 3000.0\n",
      "Hawaii high Si 8.377751648697191e-08 3000.0\n",
      "Hawaii high Si 1.3277841556150068e-07 3000.0\n",
      "Hawaii high Si 2.104396069291949e-07 3000.0\n",
      "Hawaii high Si 2.6492776881113954e-07 3000.0\n",
      "Hawaii high Si 3.3352430044627346e-07 3000.0\n",
      "Hawaii high Si 5.286003932976534e-07 3000.0\n",
      "Hawaii high Si 8.377751648697155e-07 3000.0\n",
      "Hawaii high Si 1.3277841556150093e-06 3000.0\n",
      "Hawaii high Si 2.1043960692919568e-06 3000.0\n",
      "Hawaii high Si 3.335243004462736e-06 3000.0\n",
      "Hawaii high Si 5.2860039329765444e-06 3000.0\n",
      "Hawaii high Si 8.377751648697188e-06 3000.0\n",
      "Hawaii high Si 1.327784155615009e-05 3000.0\n",
      "Hawaii high Si 2.1043960692919525e-05 3000.0\n",
      "Hawaii high Si 3.335243004462736e-05 3000.0\n",
      "Hawaii high Si 5.286003932976541e-05 3000.0\n",
      "Hawaii high Si 8.377751648697205e-05 3000.0\n",
      "Hawaii high Si 0.0001327784155615005 3000.0\n",
      "Hawaii high Si 0.0002104396069291947 3000.0\n",
      "Hawaii high Si 0.00033352430044627346 3000.0\n",
      "Hawaii high Si 0.0005286003932976547 3000.0\n",
      "Hawaii high Si 0.0008377751648697182 3000.0\n"
     ]
    }
   ],
   "source": [
    "#################################\n",
    "### equilibrium at given fO2 ###\n",
    "#################################\n",
    "\n",
    "# inputs\n",
    "option = \"spreadsheet\" # either spreadsheet or loop\n",
    "nr_step = 1.e-2 # step-size for the newton-raphson convergence for chemistry = normally 1.\n",
    "nr_tol = 1.e-9 # tolerence for the newton-raphson convergence for chemistry\n",
    "\n",
    "if option == \"loop\":\n",
    "    run = 0 # row number from file for run (0 is the first row of data)\n",
    "    dfO2_step = 1 # controlls logfO2 step size\n",
    "    fO2_i = -15 # initial fO2 in absolute log fO2 bars\n",
    "    fO2_f = -4 # final fO2 in absolute log fO2 bars\n",
    "    no_steps = 50 # number of steps between initial and final fO2\n",
    "    pressure = 1.e-9 # pressure in bars\n",
    "    inputs = {\"nr_step\":nr_step,\"nr_tol\":nr_tol,\"dfO2_step\":dfO2_step, \"fO2_i\":fO2_i, \"fO2_f\":fO2_f, \"P\":pressure, \"no_steps\":no_steps, \"option\":option,\"run\":run}   \n",
    "elif option == \"spreadsheet\":\n",
    "    first_row = 0 # starts from 0 in a spreadsheet\n",
    "    last_row = 52\n",
    "    inputs = {\"nr_step\":nr_step,\"nr_tol\":nr_tol,\"first row\":first_row, \"last row\":last_row, \"option\":option}   \n",
    "    \n",
    "# runs model    \n",
    "c.eq_given_fO2(inputs,setup,species,models)"
   ]
  },
  {
   "cell_type": "code",
   "execution_count": 8,
   "metadata": {},
   "outputs": [
    {
     "name": "stdout",
     "output_type": "stream",
     "text": [
      "Hawaii high Si\n",
      "1200.0 9.0 -0.3967450294101571 WARNING: sulphide-saturated\n",
      "1200.0 8.0 -0.42766942680010445 WARNING: sulphide-saturated\n",
      "1200.0 7.0 -0.46254415884094335 WARNING: sulphide-saturated\n",
      "1200.0 6.0 -0.5025549938663101 WARNING: sulphide-saturated\n",
      "1200.0 5.0 -0.5495272366598432 WARNING: sulphide-saturated\n",
      "1200.0 4.0 -0.6064929828243937 WARNING: sulphide-saturated\n",
      "1200.0 3.0 -0.6790798211565701 WARNING: sulphide-saturated\n",
      "1200.0 2.0 -0.7797650661318798 WARNING: sulphide-saturated\n",
      "1200.0 1.0 -0.9476737795625674 WARNING: sulphide-saturated\n"
     ]
    }
   ],
   "source": [
    "#############################\n",
    "### gassing over pressure ###\n",
    "#############################\n",
    "\n",
    "# inputs\n",
    "run = 0 # row number from file for run (0 is the first row of data)\n",
    "nr_step = 1.e-1 # step-size for the newton-raphson convergence for chemistry = normally 1.\n",
    "nr_tol = 1.e-9 # tolerence for the newton-raphson convergence for chemistry\n",
    "dp_step = 1 # controlls pressure step size\n",
    "psat_tol = 0.1 # accuracy for the saturation pressure calculation in bars\n",
    "dwtg = 1.e-7 # amount of gas to add at each step if regassing in an open-system in wt fraction total system\n",
    "i_nr_step = 1. # step-size for newton-raphson convergence for isotopes\n",
    "i_nr_tol = 1.e-9 # tolerance for newton-raphson convergence for isotopes\n",
    "\n",
    "# runs model\n",
    "gassing_inputs = {\"nr_step\":nr_step,\"nr_tol\":nr_tol,\"dp_step\":dp_step,\"psat_tol\":psat_tol,\"dwtg\":dwtg,\"i_nr_step\":i_nr_step,\"i_nr_tol\":i_nr_tol}            \n",
    "c.gassing(run,gassing_inputs,setup,species,models)"
   ]
  },
  {
   "cell_type": "code",
   "execution_count": null,
   "metadata": {},
   "outputs": [],
   "source": []
  }
 ],
 "metadata": {
  "kernelspec": {
   "display_name": "Python 3",
   "language": "python",
   "name": "python3"
  },
  "language_info": {
   "codemirror_mode": {
    "name": "ipython",
    "version": 3
   },
   "file_extension": ".py",
   "mimetype": "text/x-python",
   "name": "python",
   "nbconvert_exporter": "python",
   "pygments_lexer": "ipython3",
   "version": "3.7.6"
  }
 },
 "nbformat": 4,
 "nbformat_minor": 4
}
